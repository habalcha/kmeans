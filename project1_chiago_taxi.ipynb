{
 "cells": [
  {
   "cell_type": "code",
   "execution_count": 1,
   "metadata": {},
   "outputs": [
    {
     "data": {
      "text/html": [
       "<div>\n",
       "<style scoped>\n",
       "    .dataframe tbody tr th:only-of-type {\n",
       "        vertical-align: middle;\n",
       "    }\n",
       "\n",
       "    .dataframe tbody tr th {\n",
       "        vertical-align: top;\n",
       "    }\n",
       "\n",
       "    .dataframe thead th {\n",
       "        text-align: right;\n",
       "    }\n",
       "</style>\n",
       "<table border=\"1\" class=\"dataframe\">\n",
       "  <thead>\n",
       "    <tr style=\"text-align: right;\">\n",
       "      <th></th>\n",
       "      <th>Pickup Centroid Longitude</th>\n",
       "      <th>Pickup Centroid Latitude</th>\n",
       "    </tr>\n",
       "  </thead>\n",
       "  <tbody>\n",
       "    <tr>\n",
       "      <th>0</th>\n",
       "      <td>-87.633308</td>\n",
       "      <td>41.899602</td>\n",
       "    </tr>\n",
       "    <tr>\n",
       "      <th>1</th>\n",
       "      <td>-87.633308</td>\n",
       "      <td>41.899602</td>\n",
       "    </tr>\n",
       "    <tr>\n",
       "      <th>2</th>\n",
       "      <td>-87.633308</td>\n",
       "      <td>41.899602</td>\n",
       "    </tr>\n",
       "    <tr>\n",
       "      <th>3</th>\n",
       "      <td>-87.626215</td>\n",
       "      <td>41.892508</td>\n",
       "    </tr>\n",
       "    <tr>\n",
       "      <th>4</th>\n",
       "      <td>-87.663518</td>\n",
       "      <td>41.874005</td>\n",
       "    </tr>\n",
       "    <tr>\n",
       "      <th>...</th>\n",
       "      <td>...</td>\n",
       "      <td>...</td>\n",
       "    </tr>\n",
       "    <tr>\n",
       "      <th>292776</th>\n",
       "      <td>-87.655998</td>\n",
       "      <td>41.944227</td>\n",
       "    </tr>\n",
       "    <tr>\n",
       "      <th>292777</th>\n",
       "      <td>-87.663518</td>\n",
       "      <td>41.874005</td>\n",
       "    </tr>\n",
       "    <tr>\n",
       "      <th>292778</th>\n",
       "      <td>-87.663518</td>\n",
       "      <td>41.874005</td>\n",
       "    </tr>\n",
       "    <tr>\n",
       "      <th>292779</th>\n",
       "      <td>-87.626215</td>\n",
       "      <td>41.892508</td>\n",
       "    </tr>\n",
       "    <tr>\n",
       "      <th>292780</th>\n",
       "      <td>-87.633308</td>\n",
       "      <td>41.899602</td>\n",
       "    </tr>\n",
       "  </tbody>\n",
       "</table>\n",
       "<p>273071 rows × 2 columns</p>\n",
       "</div>"
      ],
      "text/plain": [
       "        Pickup Centroid Longitude  Pickup Centroid Latitude\n",
       "0                      -87.633308                 41.899602\n",
       "1                      -87.633308                 41.899602\n",
       "2                      -87.633308                 41.899602\n",
       "3                      -87.626215                 41.892508\n",
       "4                      -87.663518                 41.874005\n",
       "...                           ...                       ...\n",
       "292776                 -87.655998                 41.944227\n",
       "292777                 -87.663518                 41.874005\n",
       "292778                 -87.663518                 41.874005\n",
       "292779                 -87.626215                 41.892508\n",
       "292780                 -87.633308                 41.899602\n",
       "\n",
       "[273071 rows x 2 columns]"
      ]
     },
     "execution_count": 1,
     "metadata": {},
     "output_type": "execute_result"
    }
   ],
   "source": [
    "import matplotlib.pyplot as plt\n",
    "import pandas as pd\n",
    "\n",
    "# read in the data \n",
    "df = pd.read_csv(\"chicago_taxi.csv\")\n",
    "\n",
    "# select only pickup longiture and latitude\n",
    "df = df.loc[:, ['Pickup Centroid Longitude', 'Pickup Centroid Latitude']]\n",
    "\n",
    "# drop missing values from the dataframe\n",
    "df = df.dropna()\n",
    "df"
   ]
  },
  {
   "cell_type": "code",
   "execution_count": 48,
   "metadata": {},
   "outputs": [
    {
     "data": {
      "image/png": "[encoded data removed]",
      "text/plain": [
       "<Figure size 432x288 with 1 Axes>"
      ]
     },
     "metadata": {
      "needs_background": "light"
     },
     "output_type": "display_data"
    }
   ],
   "source": [
    "# The model I would have liked to use for this classification problem was DBSCAN but I run into a Memory error bacause of the\n",
    "# size of the data. \n",
    "\n",
    "#This is the next model I want to use and, as you can see from the picture, there are close clusters that \n",
    "# are classified as 2 separate clusters.\n",
    "\n",
    "from sklearn.cluster import KMeans\n",
    "\n",
    "# define cluster parameters\n",
    "n_clusters = 4\n",
    "n_init = 10\n",
    "max_iter = 100\n",
    "tol = 0.0001\n",
    "random_state = 663\n",
    "\n",
    "# initiate KMeans and fit the data\n",
    "kmeans = KMeans(n_clusters=n_clusters, n_init=n_init, max_iter=max_iter, tol=tol, random_state=random_state)\n",
    "mean_distance = kmeans.fit_transform(df)\n",
    "\n",
    "# Scatterplot of KMeans classification\n",
    "plt.figure()\n",
    "plt.scatter(x = 'Pickup Centroid Latitude', y = 'Pickup Centroid Longitude',c = kmeans.labels_, data = df, cmap = \"Set1\")\n",
    "plt.show()\n",
    "\n",
    "# this is the result I expected to get. KMeans splits classifications that are close to each other because it needs to fit \n",
    "# all the data into the n_cluster parameter we set for it. "
   ]
  },
  {
   "cell_type": "code",
   "execution_count": 45,
   "metadata": {},
   "outputs": [
    {
     "data": {
      "text/plain": [
       "DBSCAN(algorithm='auto', eps=0.03, leaf_size=100, metric='euclidean',\n",
       "       metric_params=None, min_samples=300, n_jobs=None, p=None)"
      ]
     },
     "execution_count": 45,
     "metadata": {},
     "output_type": "execute_result"
    }
   ],
   "source": [
    "# here is DBSCAN with a smaller dataset.\n",
    "\n",
    "df = df.iloc[:30000, :]\n",
    "\n",
    "from sklearn.cluster import DBSCAN\n",
    "\n",
    "# set DBSCAN Parameters: set so we get 4 classes to compare with KMeans\n",
    "max_dist = 0.03\n",
    "hoodsize = 300\n",
    "\n",
    "# instatiate DBSCAN and fit\n",
    "cluster = DBSCAN(eps = max_dist, min_samples = hoodsize, leaf_size = 100)\n",
    "cluster.fit(df)"
   ]
  },
  {
   "cell_type": "code",
   "execution_count": 47,
   "metadata": {},
   "outputs": [
    {
     "data": {
      "image/png": "[encoded data removed]",
      "text/plain": [
       "<Figure size 432x288 with 1 Axes>"
      ]
     },
     "metadata": {
      "needs_background": "light"
     },
     "output_type": "display_data"
    }
   ],
   "source": [
    "# scatterplot of DBSCAN's classification\n",
    "plt.figure()\n",
    "plt.scatter(x = 'Pickup Centroid Latitude', y = 'Pickup Centroid Longitude', c = cluster.labels_, data = df, cmap = \"Set2\")\n",
    "plt.show()"
   ]
  }
 ],
 "metadata": {
  "kernelspec": {
   "display_name": "Python 3",
   "language": "python",
   "name": "python3"
  },
  "language_info": {
   "codemirror_mode": {
    "name": "ipython",
    "version": 3
   },
   "file_extension": ".py",
   "mimetype": "text/x-python",
   "name": "python",
   "nbconvert_exporter": "python",
   "pygments_lexer": "ipython3",
   "version": "3.7.3"
  }
 },
 "nbformat": 4,
 "nbformat_minor": 4
}
